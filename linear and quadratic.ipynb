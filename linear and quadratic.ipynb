{
 "cells": [
  {
   "cell_type": "markdown",
   "metadata": {
    "slideshow": {
     "slide_type": "slide"
    }
   },
   "source": [
    "Sketch the line $$y=2x-5$$"
   ]
  },
  {
   "cell_type": "markdown",
   "metadata": {
    "slideshow": {
     "slide_type": "fragment"
    }
   },
   "source": [
    "On the same axes, sketch the curve $$y=x^2+2x-3$$"
   ]
  },
  {
   "cell_type": "markdown",
   "metadata": {
    "slideshow": {
     "slide_type": "fragment"
    }
   },
   "source": [
    "Do your line and your curve intersect?\n",
    "\n",
    "How certain are you on a scale of <img alt=\"confused\" style=\"display: inline-block; vertical-align: bottom\" src=\"https://cdn0.iconfinder.com/data/icons/smile-emoticons/78/Emoticons_smile_smiley-03-48.png\"/> to <img alt=\"confident\" style=\"display: inline-block; vertical-align: bottom\" src=\"https://cdn0.iconfinder.com/data/icons/smile-emoticons/78/smyle_emoticons-07-48.png\"/>?"
   ]
  },
  {
   "cell_type": "markdown",
   "metadata": {
    "slideshow": {
     "slide_type": "subslide"
    }
   },
   "source": [
    "Now, how can we apply some rigour?"
   ]
  },
  {
   "cell_type": "markdown",
   "metadata": {
    "slideshow": {
     "slide_type": "fragment"
    }
   },
   "source": [
    "Imagine there is an intersection. What would have to be true about the coordinates?"
   ]
  },
  {
   "cell_type": "markdown",
   "metadata": {
    "slideshow": {
     "slide_type": "fragment"
    }
   },
   "source": [
    "$$\\begin{cases}\n",
    "y=2x-5\\\\\n",
    "y=x^2+2x-3\n",
    "\\end{cases}$$"
   ]
  },
  {
   "cell_type": "markdown",
   "metadata": {
    "slideshow": {
     "slide_type": "fragment"
    }
   },
   "source": [
    "$$2x-5=x^2+2x-3$$"
   ]
  },
  {
   "cell_type": "markdown",
   "metadata": {
    "slideshow": {
     "slide_type": "fragment"
    }
   },
   "source": [
    "$$x^2=-2$$"
   ]
  },
  {
   "cell_type": "markdown",
   "metadata": {
    "slideshow": {
     "slide_type": "fragment"
    }
   },
   "source": [
    "Impossible. So there's no intersection."
   ]
  },
  {
   "cell_type": "markdown",
   "metadata": {
    "slideshow": {
     "slide_type": "slide"
    }
   },
   "source": [
    "$\n",
    "1.\\begin{cases}\n",
    "y&=x^2\\\\\n",
    "y&=2x+3\n",
    "\\end{cases}\n",
    "\\\\\n",
    "2.\\begin{cases}\n",
    "y&=x^2-x\\\\\n",
    "y&=2-x\n",
    "\\end{cases}\n",
    "\\\\\n",
    "3.\\begin{cases}\n",
    "y&=x^2-2x+2\\\\\n",
    "y&=2x+1\n",
    "\\end{cases}\n",
    "$\n",
    "\n",
    "4. Construct the equations of a quadratic curve and a straight line in the form $y=mx+c$ where $m$ and $c$ are non-zero integers that have exactly one intersection"
   ]
  }
 ],
 "metadata": {
  "celltoolbar": "Slideshow",
  "kernelspec": {
   "display_name": "Python 3",
   "language": "python",
   "name": "python3"
  },
  "language_info": {
   "codemirror_mode": {
    "name": "ipython",
    "version": 3
   },
   "file_extension": ".py",
   "mimetype": "text/x-python",
   "name": "python",
   "nbconvert_exporter": "python",
   "pygments_lexer": "ipython3",
   "version": "3.6.8"
  }
 },
 "nbformat": 4,
 "nbformat_minor": 2
}
