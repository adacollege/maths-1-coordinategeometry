{
 "cells": [
  {
   "cell_type": "markdown",
   "metadata": {
    "slideshow": {
     "slide_type": "slide"
    }
   },
   "source": [
    "Find the distance between the points $A(-2,5)$ and $B(6,-10)$ leaving your answer in surd form.\n"
   ]
  },
  {
   "cell_type": "markdown",
   "metadata": {
    "slideshow": {
     "slide_type": "slide"
    }
   },
   "source": [
    "# Circles\n",
    "\n",
    "What makes a circle circular?"
   ]
  },
  {
   "cell_type": "code",
   "execution_count": 52,
   "metadata": {
    "hide_input": true,
    "slideshow": {
     "slide_type": "skip"
    }
   },
   "outputs": [],
   "source": [
    "import matplotlib.pyplot as plt\n",
    "import numpy as np\n",
    "from IPython.display import display, Math, Latex\n",
    "from sympy import *\n",
    "init_printing()\n",
    "%matplotlib inline"
   ]
  },
  {
   "cell_type": "markdown",
   "metadata": {
    "slideshow": {
     "slide_type": "subslide"
    }
   },
   "source": [
    "The blue circle has centre $(0,0)$ and radius $1$.\n",
    "\n",
    "Check that the points $A$, $B$ and $C$ are on the circle.\n",
    "\n",
    "What must be true about $x$ and $y$ for $P$?\n"
   ]
  },
  {
   "cell_type": "code",
   "execution_count": 53,
   "metadata": {
    "hide_input": true,
    "scrolled": true,
    "slideshow": {
     "slide_type": "-"
    }
   },
   "outputs": [
    {
     "data": {
            "text/plain": [
       "<Figure size 1080x432 with 4 Axes>"
      ]
     },
     "metadata": {},
     "output_type": "display_data"
    }
   ],
   "source": [
    "ts = np.linspace(0,2*np.pi,500)\n",
    "\n",
    "xs = np.cos(ts)\n",
    "ys = np.sin(ts)\n",
    "\n",
    "fig, myaxes = plt.subplots(1,4,figsize=(15,6))\n",
    "for myaxis in myaxes:\n",
    "    myaxis.set_aspect('equal')\n",
    "    myaxis.spines['left'].set_position(\"zero\")\n",
    "    myaxis.spines['bottom'].set_position(\"zero\")\n",
    "    myaxis.spines['top'].set_visible(False)\n",
    "    myaxis.spines['right'].set_visible(False)\n",
    "    myaxis.yaxis.set_ticks_position('left')\n",
    "    myaxis.xaxis.set_ticks_position('bottom')\n",
    "    myaxis.set_yticks([])\n",
    "    myaxis.set_xticks([])\n",
    "    myaxis.plot(xs,ys)\n",
    "    myaxis.set_ylim(-2,2)\n",
    "    myaxis.set_xlim(-2,2)\n",
    "\n",
    "myaxes[0].plot([1],[0],'o',ms=10)\n",
    "myaxes[0].annotate(\"$A$\",xy=(1,0),fontsize=16)\n",
    "myaxes[0].set_title(r'$A\\left(1,0\\right)$',fontsize=24)\n",
    "\n",
    "myaxes[1].plot([np.sqrt(2)/2],[np.sqrt(2)/2],'o',ms=10)\n",
    "myaxes[1].annotate(\"$B$\",xy=(np.sqrt(2)/2,np.sqrt(2)/2),fontsize=16)\n",
    "myaxes[1].set_title(r'$B\\left(\\frac{\\sqrt{2}}{2},\\frac{\\sqrt{2}}{2}\\right)$',fontsize=24)\n",
    "\n",
    "myaxes[2].plot([-np.sqrt(3)/2],[1/2],'o',ms=10)\n",
    "myaxes[2].annotate(\"$C$\",xy=(-np.sqrt(3)/2,1/2),fontsize=16)\n",
    "myaxes[2].set_title(r'$C\\left(-\\frac{\\sqrt{3}}{2},\\frac{1}{2}\\right)$',fontsize=24)\n",
    "\n",
    "myaxes[3].plot([np.sqrt(3)/2],[1/2],'o',ms=10)\n",
    "myaxes[3].annotate(\"$P$\",xy=(np.sqrt(3)/2,1/2),fontsize=16)\n",
    "myaxes[3].set_title(r'$P\\left(x,y\\right)$',fontsize=24);\n",
    "\n"
   ]
  },
  {
   "cell_type": "markdown",
   "metadata": {
    "slideshow": {
     "slide_type": "fragment"
    }
   },
   "source": [
    "So this circle has equation\n",
    "\n",
    "$$x^2+y^2=1$$"
   ]
  },
  {
   "cell_type": "code",
   "execution_count": 54,
   "metadata": {
    "hide_input": true,
    "scrolled": false,
    "slideshow": {
     "slide_type": "subslide"
    }
   },
   "outputs": [
    {
     "data": {
      "text/plain": [
       "<Figure size 1440x720 with 3 Axes>"
      ]
     },
     "metadata": {
      "needs_background": "light"
     },
     "output_type": "display_data"
    }
   ],
   "source": [
    "ts = np.linspace(0,2*np.pi,500)\n",
    "\n",
    "xs = 2*np.cos(ts)+1\n",
    "ys = 2*np.sin(ts)+2\n",
    "\n",
    "fig, myaxes = plt.subplots(1,3,figsize=(20,10))\n",
    "fig.suptitle('Verify that $A$ and $B$ are on this circle, centre $(1,2)$, radius $2$. What is true about $x$ and $y$ for any point $P$ on this circle?',fontsize=24)\n",
    "for myaxis in myaxes:\n",
    "    myaxis.set_aspect('equal')\n",
    "    myaxis.spines['left'].set_position(\"zero\")\n",
    "    myaxis.spines['bottom'].set_position(\"zero\")\n",
    "    myaxis.spines['top'].set_visible(False)\n",
    "    myaxis.spines['right'].set_visible(False)\n",
    "    myaxis.yaxis.set_ticks_position('left')\n",
    "    myaxis.xaxis.set_ticks_position('bottom')\n",
    "    myaxis.set_yticks([2])\n",
    "    myaxis.set_xticks([1])\n",
    "    myaxis.plot(xs,ys)\n",
    "    myaxis.set_ylim(-2,5)\n",
    "    myaxis.set_xlim(-2,5)\n",
    "\n",
    "myaxes[0].plot([1,np.sqrt(2)+1],[2,np.sqrt(2)+2],'o',ms=14)\n",
    "myaxes[0].annotate(\"$A$\",xy=(2,3),fontsize=16)\n",
    "myaxes[0].set_title(r'$A\\left(\\sqrt{2}+1,\\sqrt{2}+2\\right)$',fontsize=24)\n",
    "\n",
    "myaxes[1].plot([1,0],[2,2+np.sqrt(3)],'o',ms=14)\n",
    "myaxes[1].annotate(\"$B$\",xy=(0,4),fontsize=16)\n",
    "myaxes[1].set_title(r'$B\\left(0,2+\\sqrt{3}\\right)$',fontsize=24)\n",
    "\n",
    "myaxes[2].plot([1,xs[35]],[2,ys[35]],'o',ms=14)\n",
    "myaxes[2].annotate(\"$P$\",xy=(3.1,3),fontsize=16)\n",
    "myaxes[2].set_title(r'$P\\left(x,y\\right)$',fontsize=24);\n",
    "\n"
   ]
  },
  {
   "cell_type": "markdown",
   "metadata": {
    "slideshow": {
     "slide_type": "fragment"
    }
   },
   "source": [
    "So this circle has equation\n",
    "\n",
    "$$(x-1)^2+(y-2)^2=2^2$$"
   ]
  },
  {
   "cell_type": "markdown",
   "metadata": {
    "slideshow": {
     "slide_type": "subslide"
    }
   },
   "source": [
    "What is an equation of the circle\n",
    "\n",
    "1. centre $(1,7)$, radius $3$\n",
    "1. centre $(-1,-2)$, radius $2$\n",
    "1. centre $(4,-7)$, radius $16$\n",
    "1. centre $(a,b)$, radius $r$"
   ]
  },
  {
   "cell_type": "markdown",
   "metadata": {
    "slideshow": {
     "slide_type": "fragment"
    }
   },
   "source": [
    "$$(x-a)^2+(y-b)^2=r^2$$"
   ]
  },
  {
   "cell_type": "markdown",
   "metadata": {
    "slideshow": {
     "slide_type": "slide"
    }
   },
   "source": [
    "Show that $x^2-4x+y^2+6y-12=0$ is an equation of a circle, and find its centre and radius."
   ]
  },
  {
   "cell_type": "markdown",
   "metadata": {
    "slideshow": {
     "slide_type": "subslide"
    }
   },
   "source": [
    "$$\\begin{aligned}\n",
    "x^2-4x+y^2+6y-12&=(x-a)^2+(y-b)^2-r^2\\\\\n",
    "&=x^2-2ax+a^2+y^2-2by+b^2-r^2\\\\\n",
    "-2a&=-4\\implies a=2\\\\\n",
    "-2b&=6 \\implies b=-3\\\\\n",
    "-12&=a^2+b^2-r^2\\\\\n",
    "&=4+9-r^2\\\\\n",
    "r^2&=25\\implies r=5\n",
    "\\end{aligned}$$"
   ]
  },
  {
   "cell_type": "markdown",
   "metadata": {
    "hide_input": true,
    "slideshow": {
     "slide_type": "subslide"
    }
   },
   "source": [
    "The equation can be rewritten as\n",
    "\n",
    "$$(x-2)^2+(y+3)^2=5^2$$\n",
    "\n",
    "So this circle has centre $(2,-3)$ and radius $5$."
   ]
  },
  {
   "cell_type": "markdown",
   "metadata": {
    "slideshow": {
     "slide_type": "subslide"
    }
   },
   "source": [
    "Decide on the centre point and radius of a circle and write it in the form\n",
    "\n",
    "$$(x-a)^2+(y-b)^2=r^2$$\n",
    "\n",
    "Multiply out the brackets and simplify to get an equation of the form\n",
    "\n",
    "$$x^2+px+y^2+qy+t=0$$\n",
    "\n",
    "Give that to someone else and challenge them to find the centre and radius of your circle."
   ]
  },
  {
   "cell_type": "markdown",
   "metadata": {
    "slideshow": {
     "slide_type": "slide"
    }
   },
   "source": [
    "Or automate the process..."
   ]
  },
  {
   "cell_type": "code",
   "execution_count": 69,
   "metadata": {
    "slideshow": {
     "slide_type": "fragment"
    }
   },
   "outputs": [
    {
     "data": {
      "text/latex": [
       "$\\displaystyle x^{2} - 2 x + y^{2} + 18 y + 33=0$"
      ],
      "text/plain": [
       "<IPython.core.display.Math object>"
      ]
     },
     "metadata": {},
     "output_type": "display_data"
    }
   ],
   "source": [
    "# Get some random values for the centre coordinates and radius\n",
    "a, b = np.random.randint(-9,9,2)\n",
    "r = np.random.randint(1,10)\n",
    "\n",
    "# Set up and display equation\n",
    "x, y = symbols('x y')\n",
    "circ = expand((x-a)**2+(y-b)**2-r**2)\n",
    "display(Math(\"{}=0\".format(latex(circ))))"
   ]
  },
  {
   "cell_type": "markdown",
   "metadata": {
    "slideshow": {
     "slide_type": "fragment"
    }
   },
   "source": [
    "Complete the squares and simplify"
   ]
  },
  {
   "cell_type": "code",
   "execution_count": 76,
   "metadata": {
    "slideshow": {
     "slide_type": "-"
    }
   },
   "outputs": [
    {
     "data": {
      "text/latex": [
       "$\\displaystyle \\left(x - 1\\right)^{2} - 1 + \\left(y + 9\\right)^{2} - 81 = -33$"
      ],
      "text/plain": [
       "<IPython.core.display.Math object>"
      ]
     },
     "metadata": {},
     "output_type": "display_data"
    },
    {
     "data": {
      "text/latex": [
       "$\\displaystyle \\left(x - 1\\right)^{2} + \\left(y + 9\\right)^{2} = 49$"
      ],
      "text/plain": [
       "<IPython.core.display.Math object>"
      ]
     },
     "metadata": {},
     "output_type": "display_data"
    }
   ],
   "source": [
    "x_part = latex((x-a)**2 - a**2)\n",
    "y_part = latex((y-b)**2 - b**2)\n",
    "const = r**2 - a**2 - b**2\n",
    "full_eqn = (x-a)**2 + (y-b)**2\n",
    "display(Math(\"{} + {} = {}\".format(x_part, y_part, const)))\n",
    "display(Math(\"{} = {}\".format(latex(full_eqn), r**2)))"
   ]
  },
  {
   "cell_type": "code",
   "execution_count": 71,
   "metadata": {
    "slideshow": {
     "slide_type": "fragment"
    }
   },
   "outputs": [
    {
     "data": {
      "text/latex": [
       "This circle has centre $\\left( 1, \\  -9\\right)$ and radius $7$"
      ],
      "text/plain": [
       "<IPython.core.display.Latex object>"
      ]
     },
     "metadata": {},
     "output_type": "display_data"
    }
   ],
   "source": [
    "ctr = latex((a,b))\n",
    "display(Latex(\"This circle has centre ${}$ and radius ${}$\".format(ctr, r)))"
   ]
  },
  {
   "cell_type": "markdown",
   "metadata": {
    "slideshow": {
     "slide_type": "slide"
    }
   },
   "source": [
    "[Teddy Bear](https://undergroundmathematics.org/circles/teddy-bear)\n",
    "\n",
    "[Can we find the tangents to this circle from the origin?](https://undergroundmathematics.org/circles/r5903)\n",
    "\n",
    "[Can we show that these four points lie on a circle?](https://undergroundmathematics.org/circles/r5717)\n",
    "\n",
    "[Can we show that these two circles touch?](https://undergroundmathematics.org/circles/r6100)\n",
    "\n",
    "[Which point on the first circle is closest to the second?](https://undergroundmathematics.org/circles/r9452)"
   ]
  }
 ],
 "metadata": {
  "celltoolbar": "Slideshow",
  "hide_input": true,
  "kernelspec": {
   "display_name": "Python 3",
   "language": "python",
   "name": "python3"
  },
  "language_info": {
   "codemirror_mode": {
    "name": "ipython",
    "version": 3
   },
   "file_extension": ".py",
   "mimetype": "text/x-python",
   "name": "python",
   "nbconvert_exporter": "python",
   "pygments_lexer": "ipython3",
   "version": "3.8.5"
  }
 },
 "nbformat": 4,
 "nbformat_minor": 2
}
