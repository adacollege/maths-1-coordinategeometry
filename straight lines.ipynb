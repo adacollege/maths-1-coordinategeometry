{
 "cells": [
  {
   "cell_type": "code",
   "execution_count": 1,
   "metadata": {
    "slideshow": {
     "slide_type": "skip"
    }
   },
   "outputs": [],
   "source": [
    "import random\n",
    "from IPython.display import display, Math\n",
    "import matplotlib.pyplot as plt\n",
    "import numpy as np\n",
    "%matplotlib inline\n",
    "plt.style.use('seaborn')"
   ]
  },
  {
   "cell_type": "markdown",
   "metadata": {
    "slideshow": {
     "slide_type": "slide"
    }
   },
   "source": [
    "# Equations of straight lines"
   ]
  },
  {
   "cell_type": "markdown",
   "metadata": {
    "slideshow": {
     "slide_type": "-"
    }
   },
   "source": [
    "[Describing straight lines](https://undergroundmathematics.org/geometry-of-equations/describing-straight-lines)"
   ]
  },
  {
   "cell_type": "markdown",
   "metadata": {
    "slideshow": {
     "slide_type": "slide"
    }
   },
   "source": [
    "## The equation of a line through two points\n",
    "\n",
    "Find an equation for the line that passes through these two points\n",
    "\n",
    "(`ctrl-enter` in the next cell will generate a pair of random points)"
   ]
  },
  {
   "cell_type": "code",
   "execution_count": 2,
   "metadata": {
    "hide_input": true,
    "scrolled": false,
    "slideshow": {
     "slide_type": "-"
    }
   },
   "outputs": [
    {
     "data": {
      "text/latex": [
       "$\\displaystyle A = (-3,-4)\\,\\text{ and }\\,B = (-1,-1)$"
      ],
      "text/plain": [
       "<IPython.core.display.Math object>"
      ]
     },
     "metadata": {},
     "output_type": "display_data"
    }
   ],
   "source": [
    "display(Math(\"A = ({},{})\\,\\\\text{{ and }}\\,B = ({},{})\".format(*[random.randint(-5,5) for _ in range(4)])))"
   ]
  },
  {
   "cell_type": "markdown",
   "metadata": {
    "slideshow": {
     "slide_type": "fragment"
    }
   },
   "source": [
    "* in the form $y=mx+c$\n",
    "* in the form $ax+by+c=0$ where $a,\\,b$ and $c$ are integers"
   ]
  },
  {
   "cell_type": "markdown",
   "metadata": {
    "slideshow": {
     "slide_type": "subslide"
    }
   },
   "source": [
    "$A=(2,1)$ and $B=(3,7)$"
   ]
  },
  {
   "cell_type": "markdown",
   "metadata": {
    "slideshow": {
     "slide_type": "notes"
    }
   },
   "source": [
    "We can draw out at least four distinct approaches to finding the equation of a straight line. In no particular order:"
   ]
  },
  {
   "cell_type": "markdown",
   "metadata": {
    "slideshow": {
     "slide_type": "subslide"
    }
   },
   "source": [
    "### Approach 1\n",
    "\n",
    "$$y=mx+c$$"
   ]
  },
  {
   "cell_type": "code",
   "execution_count": 3,
   "metadata": {
    "hide_input": true,
    "slideshow": {
     "slide_type": "-"
    }
   },
   "outputs": [
    {
     "data": {
      "image/png": "[encoded data removed]",
      "text/plain": [
       "<Figure size 432x288 with 1 Axes>"
      ]
     },
     "metadata": {
      "needs_background": "light"
     },
     "output_type": "display_data"
    }
   ],
   "source": [
    "xs = np.linspace(1,4,10)\n",
    "ys = 6*xs-11\n",
    "fig = plt.figure()\n",
    "ax = fig.add_subplot(111)\n",
    "ax.set_axis_off()\n",
    "ax.plot(xs,ys)\n",
    "ax.plot([2],[1],\"o\")\n",
    "ax.annotate(\"A: 1=2m+c\",xy=(2,1),xytext=(2.2,1))\n",
    "ax.plot([3],[7],\"o\")\n",
    "ax.annotate(\"B: 7=3m+c\",xy=(3,7),xytext=(3.2,7));"
   ]
  },
  {
   "cell_type": "markdown",
   "metadata": {
    "slideshow": {
     "slide_type": "subslide"
    }
   },
   "source": [
    "$A$ is on the line $\\implies 1=2m+c$\n",
    "\n",
    "$B$ is on the line $\\implies 7=3m+c$\n",
    "\n",
    "Solving as simultaneous equations $\\implies 6=m$\n",
    "\n",
    "Substituting back in $\\implies 1=2\\cdot6+c \\implies c=-11$\n",
    "\n",
    "So the line has equation $y=6x-11$"
   ]
  },
  {
   "cell_type": "markdown",
   "metadata": {
    "slideshow": {
     "slide_type": "subslide"
    }
   },
   "source": [
    "### Approach 2"
   ]
  },
  {
   "cell_type": "code",
   "execution_count": 4,
   "metadata": {
    "hide_input": true,
    "slideshow": {
     "slide_type": "-"
    }
   },
   "outputs": [
    {
     "data": {
      "image/png": "[encoded data removed]",
      "text/plain": [
       "<Figure size 432x288 with 2 Axes>"
      ]
     },
     "metadata": {
      "needs_background": "light"
     },
     "output_type": "display_data"
    }
   ],
   "source": [
    "xs = np.linspace(1,5,10)\n",
    "ys = 6*xs-11\n",
    "f, (ax1, ax2) = plt.subplots(1, 2, sharey=True)\n",
    "ax1.set_axis_off()\n",
    "ax1.plot(xs,ys)\n",
    "ax1.plot([2,3],[1,1])\n",
    "ax1.plot([3,3],[1,7])\n",
    "ax1.annotate(\"3-2=1\",xy=(2.5,1),xytext=(2.5,0.3))\n",
    "ax1.annotate(\"7-1=6\",xy=(3,4),xytext=(3.1,4))\n",
    "ax1.plot([2],[1],\"o\")\n",
    "ax1.plot([3],[7],\"o\")\n",
    "ax2.set_axis_off()\n",
    "ax2.plot(xs,ys)\n",
    "ax2.plot([2,4],[1,1])\n",
    "ax2.plot([4,4],[1,13])\n",
    "ax2.annotate(\"x-2\",xy=(2.5,1),xytext=(2.5,0.3))\n",
    "ax2.annotate(\"y-1\",xy=(4,7),xytext=(4.1,7))\n",
    "ax2.plot([2],[1],\"o\")\n",
    "ax2.plot([4],[13],\"s\");"
   ]
  },
  {
   "cell_type": "markdown",
   "metadata": {
    "slideshow": {
     "slide_type": "subslide"
    }
   },
   "source": [
    "The gradient between $A$ and $B$ is the same as the gradient between $A$ and $(x,y)$, so\n",
    "\n",
    "$$\\dfrac{y-1}{x-2}=\\dfrac{7-1}{3-2}=6$$\n",
    "\n",
    "Which rearranges to $$y-1=6(x-2)\\implies y=6x-11$$"
   ]
  },
  {
   "cell_type": "markdown",
   "metadata": {
    "slideshow": {
     "slide_type": "fragment"
    }
   },
   "source": [
    "$$\\dfrac{y-y_1}{x-x_1}=\\dfrac{y_0-y_1}{x_0-x_1}$$"
   ]
  },
  {
   "cell_type": "markdown",
   "metadata": {
    "slideshow": {
     "slide_type": "subslide"
    }
   },
   "source": [
    "### Approach 3\n",
    "\n",
    "$$y=mx+c$$\n",
    "\n",
    "The gradient between $A$ and $B$ is $6$ as before, so our line is $y=6x+c$\n",
    "\n",
    "Substitute in either of the points $\\implies 1=6\\cdot2+c \\implies c=-11$, so the line is $y=6x-11$\n",
    "\n",
    "Substitute in the other point to check $7=6\\cdot3-11$"
   ]
  },
  {
   "cell_type": "markdown",
   "metadata": {
    "slideshow": {
     "slide_type": "subslide"
    }
   },
   "source": [
    "### Approach 4\n",
    "\n",
    "$$y-y_1=m(x-x_1)$$\n",
    "\n",
    "The gradient between $A$ and $B$ is $6$ as before.\n",
    "\n",
    "But that's also the gradient between $A$ and *anywhere* $(x,y)$ on the line so $y-1=6(x-2)$\n",
    "\n",
    "$y-1=6x-12\\implies y=6x-11$"
   ]
  },
  {
   "cell_type": "markdown",
   "metadata": {
    "slideshow": {
     "slide_type": "notes"
    }
   },
   "source": [
    "Make sure you can use all of these techniques with equal fluency."
   ]
  },
  {
   "cell_type": "markdown",
   "metadata": {
    "slideshow": {
     "slide_type": "slide"
    }
   },
   "source": [
    "## Intersections\n",
    "\n",
    "When two lines intersect, it's because both of the equations are true at the same time (simultaneously!)"
   ]
  },
  {
   "cell_type": "markdown",
   "metadata": {
    "slideshow": {
     "slide_type": "subslide"
    }
   },
   "source": [
    "Find the point of intersection of each pair of lines\n",
    "\n",
    "A.\n",
    "\n",
    "$\\begin{aligned}\n",
    "y&=3x+5&& \\text{(1)}\\\\\n",
    "y&=2x+1&& \\text{(2)}\n",
    "\\end{aligned}$"
   ]
  },
  {
   "cell_type": "markdown",
   "metadata": {
    "slideshow": {
     "slide_type": "fragment"
    }
   },
   "source": [
    "B.\n",
    "\n",
    "$\\begin{aligned}\n",
    "y&=5x-6&& \\text{(3)}\\\\\n",
    "2y-3x&=2&& \\text{(4)}\n",
    "\\end{aligned}$"
   ]
  },
  {
   "cell_type": "markdown",
   "metadata": {
    "slideshow": {
     "slide_type": "fragment"
    }
   },
   "source": [
    "C.\n",
    "\n",
    "$\\begin{array}\n",
    "4x&-2y&+10&=0&& \\text{(5)}\\\\\n",
    "3x&+y&-15&=0&& \\text{(6)}\n",
    "\\end{array}$"
   ]
  },
  {
   "cell_type": "markdown",
   "metadata": {
    "slideshow": {
     "slide_type": "notes"
    }
   },
   "source": [
    "Check your answers by putting each pair of equations into `desmos`"
   ]
  },
  {
   "cell_type": "markdown",
   "metadata": {
    "slideshow": {
     "slide_type": "subslide"
    }
   },
   "source": [
    "What about these two?\n",
    "\n",
    "D.\n",
    "\n",
    "$\\begin{aligned}\n",
    "3y+9x&=6 &&\\text{(7)}\\\\\n",
    "2y&=4-6x &&\\text{(8)}\n",
    "\\end{aligned}$"
   ]
  },
  {
   "cell_type": "markdown",
   "metadata": {
    "slideshow": {
     "slide_type": "fragment"
    }
   },
   "source": [
    "And these?\n",
    "\n",
    "E.\n",
    "\n",
    "$\\begin{aligned}\n",
    "10x-4y&=6 &&\\text{(9)}\\\\\n",
    "15x-6y&=10 &&\\text{(10)}\n",
    "\\end{aligned}$"
   ]
  },
  {
   "cell_type": "markdown",
   "metadata": {
    "slideshow": {
     "slide_type": "subslide"
    }
   },
   "source": [
    "There is an important, but subtle, difference between the situations in D and E.\n",
    "\n",
    "Put each pair into `desmos`. What do you notice?"
   ]
  },
  {
   "cell_type": "markdown",
   "metadata": {
    "slideshow": {
     "slide_type": "notes"
    }
   },
   "source": [
    "Equations 9 and 10 are *inconsistent*. They have no solution because trying to solve them together leads to a contradiction. The lines don't intersect (because they're parallel.)\n",
    "\n",
    "Equations 7 and 8 are not *inconsistent*. In fact they have an infinite number of solutions. Any $x$ has a corresponding $y$. The two lines are *the same line*."
   ]
  },
  {
   "cell_type": "markdown",
   "metadata": {
    "slideshow": {
     "slide_type": "subslide"
    }
   },
   "source": [
    "[Lots of lines](https://undergroundmathematics.org/geometry-of-equations/lots-of-lines)"
   ]
  },
  {
   "cell_type": "markdown",
   "metadata": {
    "slideshow": {
     "slide_type": "subslide"
    }
   },
   "source": [
    "### Consolidation\n",
    "\n",
    "* There are two sections on Integral that are relevant to this topic\n",
    "    * [Coordinate Geometry 1](https://2017.integralmaths.org/course/view.php?id=2&sectionid=21)\n",
    "    * [Equations and Inequalities 1](https://2017.integralmaths.org/course/view.php?id=2&sectionid=17)\n",
    "* Use your notes from this lesson together with the notes and examples on Integral to reach a full understanding of straight-line equations\n",
    "* In each section\n",
    "    * Check your understanding by doing Exercise 1 and marking it\n",
    "    * Test yourself further on Exercise 2 and mark that\n",
    "* Do the online tests [E1](https://2017.integralmaths.org/mod/quiz/view.php?id=233) and [C1](https://2017.integralmaths.org/mod/quiz/view.php?id=244)\n",
    "* You may want to extend your understanding using Exercise 3\n",
    "* Bring any remaining issues to the next lesson and be prepared to use what you know to solve problems"
   ]
  }
 ],
 "metadata": {
  "celltoolbar": "Slideshow",
  "kernelspec": {
   "display_name": "Python 3",
   "language": "python",
   "name": "python3"
  },
  "language_info": {
   "codemirror_mode": {
    "name": "ipython",
    "version": 3
   },
   "file_extension": ".py",
   "mimetype": "text/x-python",
   "name": "python",
   "nbconvert_exporter": "python",
   "pygments_lexer": "ipython3",
   "version": "3.6.8"
  }
 },
 "nbformat": 4,
 "nbformat_minor": 2
}
